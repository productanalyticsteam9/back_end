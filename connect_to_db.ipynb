{
 "cells": [
  {
   "cell_type": "code",
   "execution_count": null,
   "metadata": {
    "ExecuteTime": {
     "end_time": "2019-03-30T20:52:11.376435Z",
     "start_time": "2019-03-30T20:52:09.169401Z"
    }
   },
   "outputs": [],
   "source": [
    "!pip install psycopg2"
   ]
  },
  {
   "cell_type": "code",
   "execution_count": null,
   "metadata": {
    "ExecuteTime": {
     "end_time": "2019-03-30T20:52:12.335466Z",
     "start_time": "2019-03-30T20:52:12.309854Z"
    }
   },
   "outputs": [],
   "source": [
    "import os\n",
    "import psycopg2"
   ]
  },
  {
   "cell_type": "markdown",
   "metadata": {
    "ExecuteTime": {
     "end_time": "2019-03-30T21:42:17.051258Z",
     "start_time": "2019-03-30T21:42:17.047352Z"
    }
   },
   "source": [
    "Create schema and insert records by running schema script and insert_script respectively"
   ]
  },
  {
   "cell_type": "code",
   "execution_count": null,
   "metadata": {
    "ExecuteTime": {
     "end_time": "2019-03-30T21:40:19.380746Z",
     "start_time": "2019-03-30T21:40:19.349488Z"
    }
   },
   "outputs": [],
   "source": [
    "try:\n",
    "    connection = psycopg2.connect(\n",
    "        database=\"postgres\",\n",
    "        user=\"team9\",\n",
    "        password='admin123!$',\n",
    "        host=\"product-analytics-db-instance.cupv3jj2ht0z.us-west-2.rds.amazonaws.com\",\n",
    "        port='5432'\n",
    "    )\n",
    "    SQLCursor=connection.cursor()\n",
    "    SQLCursor.execute(open('schema.sql','r').read())\n",
    "    SQLCursor.execute(open('insert_script.sql','r').read())\n",
    "    \n",
    "except (Exception, psycopg2.Error) as error : print (\"Error while executing script\", error)\n",
    "\n",
    "finally:\n",
    "#closing database connection.\n",
    "    if(connection):\n",
    "        SQLCursor.close()\n",
    "        connection.close()\n",
    "        print(\"PostgreSQL connection is closed\")\n"
   ]
  },
  {
   "cell_type": "markdown",
   "metadata": {},
   "source": [
    "For deleting everything run delete_script."
   ]
  },
  {
   "cell_type": "code",
   "execution_count": null,
   "metadata": {
    "ExecuteTime": {
     "end_time": "2019-03-30T21:40:43.232982Z",
     "start_time": "2019-03-30T21:40:43.217369Z"
    }
   },
   "outputs": [],
   "source": [
    "try:\n",
    "    connection = psycopg2.connect(\n",
    "        database=\"postgres\",\n",
    "        user=\"team9\",\n",
    "        password='admin123!$',\n",
    "        host=\"product-analytics-db-instance.cupv3jj2ht0z.us-west-2.rds.amazonaws.com\",\n",
    "        port='5432'\n",
    "    )\n",
    "    SQLCursor=connection.cursor()\n",
    "    SQLCursor.execute(open('delete_script.sql','r').read())\n",
    "    \n",
    "except (Exception, psycopg2.Error) as error : print (\"Error while executing script\", error)\n",
    "\n",
    "finally:\n",
    "#closing database connection.\n",
    "    if(connection):\n",
    "        SQLCursor.close()\n",
    "        connection.close()\n",
    "        print(\"PostgreSQL connection is closed\")\n"
   ]
  },
  {
   "cell_type": "markdown",
   "metadata": {},
   "source": [
    "Code for testing "
   ]
  },
  {
   "cell_type": "code",
   "execution_count": null,
   "metadata": {
    "ExecuteTime": {
     "end_time": "2019-03-30T21:40:49.254765Z",
     "start_time": "2019-03-30T21:40:49.240252Z"
    }
   },
   "outputs": [],
   "source": [
    "try:\n",
    "    connection = psycopg2.connect(\n",
    "        database=\"postgres\",\n",
    "        user=\"team9\",\n",
    "        password='admin123!$',\n",
    "        host=\"product-analytics-db-instance.cupv3jj2ht0z.us-west-2.rds.amazonaws.com\",\n",
    "        port='5432'\n",
    "    )\n",
    "    SQLCursor=connection.cursor()\n",
    "    query1='SELECT * FROM appdata.user';\n",
    "    SQLCursor.execute(query1)\n",
    "    user_records = SQLCursor.fetchall()\n",
    "    print(\"Print each row and it's columns values\")\n",
    "    for row in user_records:\n",
    "        print(\"Id = \", row[0])\n",
    "        print(\"email = \", row[1])\n",
    "        print(\"password  = \", row[2], \"\\n\")\n",
    "    \n",
    "except (Exception, psycopg2.Error) as error: print(\"Error while fetching data from PostgreSQL\", error)\n",
    "finally:\n",
    "#closing database connection.\n",
    "    if(connection):\n",
    "        cursor.close()\n",
    "        connection.close()\n",
    "        print(\"PostgreSQL connection is closed\")"
   ]
  },
  {
   "cell_type": "code",
   "execution_count": null,
   "metadata": {},
   "outputs": [],
   "source": []
  }
 ],
 "metadata": {
  "kernelspec": {
   "display_name": "Python 3",
   "language": "python",
   "name": "python3"
  },
  "language_info": {
   "codemirror_mode": {
    "name": "ipython",
    "version": 3
   },
   "file_extension": ".py",
   "mimetype": "text/x-python",
   "name": "python",
   "nbconvert_exporter": "python",
   "pygments_lexer": "ipython3",
   "version": "3.7.1"
  },
  "toc": {
   "base_numbering": 1,
   "nav_menu": {},
   "number_sections": true,
   "sideBar": true,
   "skip_h1_title": false,
   "title_cell": "Table of Contents",
   "title_sidebar": "Contents",
   "toc_cell": false,
   "toc_position": {},
   "toc_section_display": true,
   "toc_window_display": false
  },
  "varInspector": {
   "cols": {
    "lenName": 16,
    "lenType": 16,
    "lenVar": 40
   },
   "kernels_config": {
    "python": {
     "delete_cmd_postfix": "",
     "delete_cmd_prefix": "del ",
     "library": "var_list.py",
     "varRefreshCmd": "print(var_dic_list())"
    },
    "r": {
     "delete_cmd_postfix": ") ",
     "delete_cmd_prefix": "rm(",
     "library": "var_list.r",
     "varRefreshCmd": "cat(var_dic_list()) "
    }
   },
   "types_to_exclude": [
    "module",
    "function",
    "builtin_function_or_method",
    "instance",
    "_Feature"
   ],
   "window_display": false
  }
 },
 "nbformat": 4,
 "nbformat_minor": 2
}
