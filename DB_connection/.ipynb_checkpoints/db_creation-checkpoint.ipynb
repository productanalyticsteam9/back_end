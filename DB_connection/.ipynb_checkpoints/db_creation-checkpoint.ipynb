{
 "cells": [
  {
   "cell_type": "code",
   "execution_count": 9,
   "metadata": {},
   "outputs": [],
   "source": [
    "# !pip install psycopg2"
   ]
  },
  {
   "cell_type": "code",
   "execution_count": 1,
   "metadata": {},
   "outputs": [
    {
     "name": "stderr",
     "output_type": "stream",
     "text": [
      "/Users/nehatevathia/anaconda3/lib/python3.6/site-packages/psycopg2/__init__.py:144: UserWarning: The psycopg2 wheel package will be renamed from release 2.8; in order to keep installing from binary please use \"pip install psycopg2-binary\" instead. For details see: <http://initd.org/psycopg/docs/install.html#binary-install-from-pypi>.\n",
      "  \"\"\")\n"
     ]
    }
   ],
   "source": [
    "import os\n",
    "import psycopg2"
   ]
  },
  {
   "cell_type": "code",
   "execution_count": 2,
   "metadata": {},
   "outputs": [],
   "source": [
    "passwd = os.environ.get('DB_passwd')"
   ]
  },
  {
   "cell_type": "code",
   "execution_count": 14,
   "metadata": {},
   "outputs": [
    {
     "name": "stdout",
     "output_type": "stream",
     "text": [
      "PostgreSQL connection is closed\n"
     ]
    }
   ],
   "source": [
    "# create\n",
    "try:\n",
    "    connection = psycopg2.connect(\n",
    "        database=\"postgres\",\n",
    "        user=\"team9\",\n",
    "        password=xxx,\n",
    "        host=\"product-analytics-db-instance.cupv3jj2ht0z.us-west-2.rds.amazonaws.com\",\n",
    "        port='5432'\n",
    "    )\n",
    "    SQLCursor=connection.cursor()\n",
    "    SQLCursor.execute(open('schema.sql','r').read())\n",
    "    SQLCursor.execute(open('insert_script.sql','r').read())\n",
    "    \n",
    "except (Exception, psycopg2.Error) as error : print (\"Error while executing script\", error)\n",
    "\n",
    "finally:\n",
    "#closing database connection.\n",
    "    if(connection):\n",
    "        SQLCursor.close()\n",
    "        connection.close()\n",
    "        print(\"PostgreSQL connection is closed\")"
   ]
  },
  {
   "cell_type": "code",
   "execution_count": 13,
   "metadata": {},
   "outputs": [
    {
     "name": "stdout",
     "output_type": "stream",
     "text": [
      "PostgreSQL connection is closed\n"
     ]
    }
   ],
   "source": [
    "# delete\n",
    "try:\n",
    "    connection = psycopg2.connect(\n",
    "        database=\"postgres\",\n",
    "        user=\"team9\",\n",
    "        password='admin123!$',\n",
    "        host=\"product-analytics-db-instance.cupv3jj2ht0z.us-west-2.rds.amazonaws.com\",\n",
    "        port='5432'\n",
    "    )\n",
    "    SQLCursor=connection.cursor()\n",
    "    SQLCursor.execute(open('delete_script.sql','r').read())\n",
    "    \n",
    "except (Exception, psycopg2.Error) as error : print (\"Error while executing script\", error)\n",
    "\n",
    "finally:\n",
    "#closing database connection.\n",
    "    if(connection):\n",
    "        SQLCursor.close()\n",
    "        connection.close()\n",
    "        print(\"PostgreSQL connection is closed\")"
   ]
  },
  {
   "cell_type": "code",
   "execution_count": 3,
   "metadata": {},
   "outputs": [
    {
     "name": "stdout",
     "output_type": "stream",
     "text": [
      "Error while fetching data from PostgreSQL relation \"appdata.user\" does not exist\n",
      "LINE 1: SELECT * FROM appdata.user\n",
      "                      ^\n",
      "\n",
      "PostgreSQL connection is closed\n"
     ]
    }
   ],
   "source": [
    "# test\n",
    "try:\n",
    "    connection = psycopg2.connect(\n",
    "        database=\"postgres\",\n",
    "        user=\"team9\",\n",
    "        password='admin123!$',\n",
    "        host=\"product-analytics-db-instance.cupv3jj2ht0z.us-west-2.rds.amazonaws.com\",\n",
    "        port='5432'\n",
    "    )\n",
    "    SQLCursor=connection.cursor()\n",
    "    query1='SELECT * FROM appdata.user';\n",
    "    SQLCursor.execute(query1)\n",
    "    user_records = SQLCursor.fetchall()\n",
    "    print(\"Print each row and it's columns values\")\n",
    "    for row in user_records:\n",
    "        print(\"Id = \", row[0])\n",
    "        print(\"email = \", row[1])\n",
    "        print(\"password  = \", row[2], \"\\n\")\n",
    "    \n",
    "except (Exception, psycopg2.Error) as error: print(\"Error while fetching data from PostgreSQL\", error)\n",
    "finally:\n",
    "#closing database connection.\n",
    "    if(connection):\n",
    "        SQLCursor.close()\n",
    "        connection.close()\n",
    "        print(\"PostgreSQL connection is closed\")\n"
   ]
  },
  {
   "cell_type": "code",
   "execution_count": null,
   "metadata": {},
   "outputs": [],
   "source": []
  }
 ],
 "metadata": {
  "kernelspec": {
   "display_name": "Python 3",
   "language": "python",
   "name": "python3"
  },
  "language_info": {
   "codemirror_mode": {
    "name": "ipython",
    "version": 3
   },
   "file_extension": ".py",
   "mimetype": "text/x-python",
   "name": "python",
   "nbconvert_exporter": "python",
   "pygments_lexer": "ipython3",
   "version": "3.6.8"
  }
 },
 "nbformat": 4,
 "nbformat_minor": 2
}
