{
 "cells": [
  {
   "cell_type": "code",
   "execution_count": 1,
   "metadata": {
    "ExecuteTime": {
     "end_time": "2019-04-11T03:03:27.600383Z",
     "start_time": "2019-04-11T03:03:24.927311Z"
    }
   },
   "outputs": [],
   "source": [
    "from fastai.vision import *\n",
    "from bs4 import BeautifulSoup\n",
    "import requests\n",
    "import re\n",
    "from urllib.request import urlopen\n",
    "import urllib.request\n",
    "import os\n",
    "import json\n",
    "import pandas as pd\n",
    "import csv\n",
    "import math\n",
    "\n",
    "%reload_ext autoreload\n",
    "%autoreload 2\n",
    "%matplotlib inline\n",
    "\n",
    "import pandas as pd\n",
    "import numpy as np\n",
    "import torch\n",
    "from pathlib import Path\n",
    "from torch.utils.data import Dataset, DataLoader\n",
    "import torch.optim as optim\n",
    "import torch.nn as nn\n",
    "import torch.nn.functional as F\n",
    "from torchvision import models\n",
    "import random\n",
    "import cv2\n",
    "import matplotlib.pyplot as plt"
   ]
  },
  {
   "cell_type": "code",
   "execution_count": 12,
   "metadata": {
    "ExecuteTime": {
     "end_time": "2019-04-11T03:13:13.852856Z",
     "start_time": "2019-04-11T03:13:13.801523Z"
    }
   },
   "outputs": [],
   "source": [
    "def read_image(path):\n",
    "    im = cv2.imread(str(path))\n",
    "    return cv2.cvtColor(im, cv2.COLOR_BGR2RGB)\n",
    "\n",
    "def normalize(im):\n",
    "    \"\"\"Normalizes images with Imagenet stats.\"\"\"\n",
    "    imagenet_stats = np.array([[0.485, 0.456, 0.406], [0.229, 0.224, 0.225]])\n",
    "    return (im - imagenet_stats[0])/imagenet_stats[1]\n",
    "\n",
    "def apply_transforms(x, sz=(303, 227), zoom=1.05):\n",
    "    \"\"\" Applies a random crop, rotation\"\"\"\n",
    "    sz1 = int(zoom*sz[0])\n",
    "    sz2 = int(zoom*sz[1])\n",
    "    x = cv2.resize(x, (sz1, sz2))\n",
    "    x = rotate_cv(x, np.random.uniform(-10,10))\n",
    "    x = random_crop(x, sz[1], sz[0])\n",
    "    if np.random.rand() >= .5:\n",
    "                x = np.fliplr(x).copy()\n",
    "    return x"
   ]
  },
  {
   "cell_type": "code",
   "execution_count": 4,
   "metadata": {
    "ExecuteTime": {
     "end_time": "2019-04-11T03:03:28.223260Z",
     "start_time": "2019-04-11T03:03:28.184471Z"
    }
   },
   "outputs": [],
   "source": [
    "class imageDataset(Dataset):\n",
    "    def __init__(self, files_path, labels, transform=False):\n",
    "        self.num_files = len(labels)\n",
    "        self.files_path = files_path\n",
    "        self.labels = labels\n",
    "        self.transform = transform\n",
    "        \n",
    "    def __len__(self):\n",
    "        return self.num_files\n",
    "    \n",
    "    def __getitem__(self, index):\n",
    "        y = self.labels[index]\n",
    "        file_name =os.listdir(self.files_path)[index]\n",
    "        path = self.files_path/str(file_name)\n",
    "        x = read_image(path)\n",
    "        if self.transform:\n",
    "            x = apply_transforms(x)\n",
    "        else:\n",
    "            x = cv2.resize(x, (303, 227))\n",
    "        x = normalize(x)\n",
    "        x = np.rollaxis(x, 2)\n",
    "        return x, y"
   ]
  },
  {
   "cell_type": "code",
   "execution_count": 5,
   "metadata": {
    "ExecuteTime": {
     "end_time": "2019-04-11T03:03:28.446351Z",
     "start_time": "2019-04-11T03:03:28.401176Z"
    }
   },
   "outputs": [],
   "source": [
    "class Net(nn.Module):\n",
    "    def __init__(self):\n",
    "        super(Net, self).__init__()\n",
    "        resnet = models.resnet34(pretrained=True)\n",
    "        # freezing parameters\n",
    "        for param in resnet.parameters():\n",
    "            param.requires_grad = False\n",
    "        # convolutional layers of resnet34\n",
    "        layers = list(resnet.children())[:8]\n",
    "        self.top_model = nn.Sequential(*layers)\n",
    "        self.bn1 = nn.BatchNorm1d(512)\n",
    "        self.bn2 = nn.BatchNorm1d(512)\n",
    "        self.fc1 = nn.Linear(512, 512)\n",
    "        self.fc2 = nn.Linear(512, 5)\n",
    "    \n",
    "    def forward(self, x):\n",
    "        x = F.relu(self.top_model(x))\n",
    "        x = nn.AdaptiveAvgPool2d((1,1))(x)\n",
    "        x = x.view(x.shape[0], -1) # flattening \n",
    "        #x = nn.Dropout(0.2)(x)\n",
    "        x = self.bn1(x)\n",
    "        x = F.relu(self.fc1(x))\n",
    "        #x = nn.Dropout(0.2)(x)\n",
    "        x = self.bn2(x)\n",
    "        x = self.fc2(x)\n",
    "        return x"
   ]
  },
  {
   "cell_type": "code",
   "execution_count": 6,
   "metadata": {
    "ExecuteTime": {
     "end_time": "2019-04-11T03:03:29.588856Z",
     "start_time": "2019-04-11T03:03:29.539187Z"
    }
   },
   "outputs": [],
   "source": [
    "def downloadImg(imgPath):\n",
    "    '''\n",
    "    downloads the image from s3. Not sure if we need this function.\n",
    "    '''"
   ]
  },
  {
   "cell_type": "code",
   "execution_count": 13,
   "metadata": {
    "ExecuteTime": {
     "end_time": "2019-04-11T03:13:35.958573Z",
     "start_time": "2019-04-11T03:13:35.906227Z"
    }
   },
   "outputs": [],
   "source": [
    "def tagImg(img,model,tagMap):\n",
    "    output=model(img.float())\n",
    "    _, pred = torch.max(output.data, 1)\n",
    "    pred=pred.item()\n",
    "    tag=tagMap[pred]\n",
    "    return tag"
   ]
  },
  {
   "cell_type": "code",
   "execution_count": 14,
   "metadata": {
    "ExecuteTime": {
     "end_time": "2019-04-11T03:13:36.457372Z",
     "start_time": "2019-04-11T03:13:36.333508Z"
    }
   },
   "outputs": [],
   "source": [
    "PATH = Path(\"\")\n",
    "#Folder location from where model will pick images for tagging \n",
    "pathTestImg= PATH/'new_test/'\n",
    "#Path where the model is saved\n",
    "modelPath=PATH/'fullModel.pt'\n",
    "#tag mapping \n",
    "tagMap={0:'car', 1:'dress', 2:'hairstyle',3:'art', 4:'watch'}\n",
    "#load model\n",
    "model=torch.load(modelPath)"
   ]
  },
  {
   "cell_type": "code",
   "execution_count": 15,
   "metadata": {
    "ExecuteTime": {
     "end_time": "2019-04-11T03:13:37.658477Z",
     "start_time": "2019-04-11T03:13:37.331381Z"
    }
   },
   "outputs": [
    {
     "name": "stdout",
     "output_type": "stream",
     "text": [
      "Tag is car\n"
     ]
    }
   ],
   "source": [
    "#dataloader object needs true labels. For test data we dont have labels but we cannot give empty list.\n",
    "# Hence we have just pass fake labels, the model wont use them to predict.\n",
    "# Assuming that model predicts tag for single image at a time. fake label is [4]\n",
    "testds=imageDataset(pathTestImg,[4])\n",
    "test_dl=DataLoader(testds)\n",
    "\n",
    "for img,label in test_dl:\n",
    "    tag=tagImg(img,model,tagMap)\n",
    "    print('Tag is',tag)   "
   ]
  }
 ],
 "metadata": {
  "kernelspec": {
   "display_name": "Python 3",
   "language": "python",
   "name": "python3"
  },
  "language_info": {
   "codemirror_mode": {
    "name": "ipython",
    "version": 3
   },
   "file_extension": ".py",
   "mimetype": "text/x-python",
   "name": "python",
   "nbconvert_exporter": "python",
   "pygments_lexer": "ipython3",
   "version": "3.7.1"
  },
  "varInspector": {
   "cols": {
    "lenName": 16,
    "lenType": 16,
    "lenVar": 40
   },
   "kernels_config": {
    "python": {
     "delete_cmd_postfix": "",
     "delete_cmd_prefix": "del ",
     "library": "var_list.py",
     "varRefreshCmd": "print(var_dic_list())"
    },
    "r": {
     "delete_cmd_postfix": ") ",
     "delete_cmd_prefix": "rm(",
     "library": "var_list.r",
     "varRefreshCmd": "cat(var_dic_list()) "
    }
   },
   "types_to_exclude": [
    "module",
    "function",
    "builtin_function_or_method",
    "instance",
    "_Feature"
   ],
   "window_display": false
  }
 },
 "nbformat": 4,
 "nbformat_minor": 2
}
