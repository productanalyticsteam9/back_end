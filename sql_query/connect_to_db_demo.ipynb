{
 "cells": [
  {
   "cell_type": "code",
   "execution_count": 1,
   "metadata": {
    "ExecuteTime": {
     "end_time": "2019-04-17T02:46:03.647867Z",
     "start_time": "2019-04-17T02:46:03.512836Z"
    }
   },
   "outputs": [],
   "source": [
    "import os\n",
    "from sqlalchemy import create_engine\n",
    "from sqlalchemy import text"
   ]
  },
  {
   "cell_type": "markdown",
   "metadata": {},
   "source": [
    "## connect to db"
   ]
  },
  {
   "cell_type": "code",
   "execution_count": 2,
   "metadata": {
    "ExecuteTime": {
     "end_time": "2019-04-17T02:46:04.280063Z",
     "start_time": "2019-04-17T02:46:04.276358Z"
    }
   },
   "outputs": [],
   "source": [
    "text_file = open(\"DB_passwd\", \"r\")\n",
    "passwd = text_file.read()"
   ]
  },
  {
   "cell_type": "code",
   "execution_count": 3,
   "metadata": {
    "ExecuteTime": {
     "end_time": "2019-04-17T02:46:05.465478Z",
     "start_time": "2019-04-17T02:46:05.461937Z"
    }
   },
   "outputs": [],
   "source": [
    "POSTGRES_ADDRESS = \"product-analytics-db-instance.cupv3jj2ht0z.us-west-2.rds.amazonaws.com\"\n",
    "POSTGRES_PORT = 5432\n",
    "POSTGRES_USERNAME = \"team9\"\n",
    "POSTGRES_PASSWORD = passwd\n",
    "POSTGRES_DBNAME = \"postgres\""
   ]
  },
  {
   "cell_type": "code",
   "execution_count": 4,
   "metadata": {
    "ExecuteTime": {
     "end_time": "2019-04-17T02:46:06.800257Z",
     "start_time": "2019-04-17T02:46:06.796423Z"
    }
   },
   "outputs": [],
   "source": [
    "postgres_str = 'postgresql://{username}:{password}@{ipaddress}:{port}/{dbname}'.format(\n",
    "    username=POSTGRES_USERNAME, \n",
    "    password=POSTGRES_PASSWORD, \n",
    "    ipaddress=POSTGRES_ADDRESS, \n",
    "    port=POSTGRES_PORT, \n",
    "    dbname=POSTGRES_DBNAME\n",
    ")"
   ]
  },
  {
   "cell_type": "code",
   "execution_count": 5,
   "metadata": {
    "ExecuteTime": {
     "end_time": "2019-04-17T02:46:07.847113Z",
     "start_time": "2019-04-17T02:46:07.792337Z"
    }
   },
   "outputs": [],
   "source": [
    "conn = create_engine(postgres_str)"
   ]
  },
  {
   "cell_type": "markdown",
   "metadata": {
    "ExecuteTime": {
     "end_time": "2019-04-17T01:44:03.341076Z",
     "start_time": "2019-04-17T01:44:03.337745Z"
    }
   },
   "source": [
    "## appdata.poll "
   ]
  },
  {
   "cell_type": "code",
   "execution_count": 14,
   "metadata": {
    "ExecuteTime": {
     "end_time": "2019-04-17T01:41:22.230152Z",
     "start_time": "2019-04-17T01:41:22.225814Z"
    }
   },
   "outputs": [],
   "source": [
    "with open('poll.sql') as f_poll:\n",
    "    txt_poll = f_poll.read()"
   ]
  },
  {
   "cell_type": "code",
   "execution_count": 15,
   "metadata": {
    "ExecuteTime": {
     "end_time": "2019-04-17T01:41:22.682623Z",
     "start_time": "2019-04-17T01:41:22.679459Z"
    }
   },
   "outputs": [],
   "source": [
    "create_poll_table_sql = text(txt_poll)"
   ]
  },
  {
   "cell_type": "code",
   "execution_count": 17,
   "metadata": {
    "ExecuteTime": {
     "end_time": "2019-04-17T01:43:05.762931Z",
     "start_time": "2019-04-17T01:43:05.390485Z"
    }
   },
   "outputs": [
    {
     "data": {
      "text/plain": [
       "<sqlalchemy.engine.result.ResultProxy at 0x111640be0>"
      ]
     },
     "execution_count": 17,
     "metadata": {},
     "output_type": "execute_result"
    }
   ],
   "source": [
    "conn.execute(create_poll_table_sql)"
   ]
  },
  {
   "cell_type": "code",
   "execution_count": 87,
   "metadata": {
    "ExecuteTime": {
     "end_time": "2019-04-17T02:41:50.661834Z",
     "start_time": "2019-04-17T02:41:50.659001Z"
    }
   },
   "outputs": [],
   "source": [
    "## insert data to appdata.poll"
   ]
  },
  {
   "cell_type": "code",
   "execution_count": 79,
   "metadata": {
    "ExecuteTime": {
     "end_time": "2019-04-17T02:38:52.808255Z",
     "start_time": "2019-04-17T02:38:52.804691Z"
    }
   },
   "outputs": [],
   "source": [
    "with open('insert_poll.sql') as f:\n",
    "    insert_poll = f.read()"
   ]
  },
  {
   "cell_type": "code",
   "execution_count": 82,
   "metadata": {
    "ExecuteTime": {
     "end_time": "2019-04-17T02:39:00.403797Z",
     "start_time": "2019-04-17T02:39:00.400816Z"
    }
   },
   "outputs": [],
   "source": [
    "insert_poll_sql = text(insert_poll)"
   ]
  },
  {
   "cell_type": "code",
   "execution_count": 81,
   "metadata": {
    "ExecuteTime": {
     "end_time": "2019-04-17T02:38:55.007621Z",
     "start_time": "2019-04-17T02:38:54.907706Z"
    }
   },
   "outputs": [
    {
     "data": {
      "text/plain": [
       "<sqlalchemy.engine.result.ResultProxy at 0x111f1b0b8>"
      ]
     },
     "execution_count": 81,
     "metadata": {},
     "output_type": "execute_result"
    }
   ],
   "source": [
    "conn.execute(insert_poll_sql)"
   ]
  },
  {
   "cell_type": "code",
   "execution_count": 6,
   "metadata": {
    "ExecuteTime": {
     "end_time": "2019-04-17T02:46:21.121603Z",
     "start_time": "2019-04-17T02:46:20.427747Z"
    },
    "scrolled": true
   },
   "outputs": [
    {
     "name": "stdout",
     "output_type": "stream",
     "text": [
      "('1', '363947ad-77cb-405d-bb52-e640a062735e', 1, 2, 'path_a', 'path_b', 2, 3, datetime.datetime(2019, 3, 30, 0, 0), 'car', 'red car')\n",
      "('2', '6a8cd336-0c06-426c-a781-05ffbe6e1f07', 3, 4, 'path_a2', 'path_b2', 21, 13, datetime.datetime(2019, 3, 31, 0, 0), 'dogs', ' golden retriver')\n",
      "('3', '6a8cd336-0c06-426c-a781-05ffbe6e1f07', 5, 6, 'path_a3', 'path_b3', 22, 33, datetime.datetime(2019, 3, 31, 0, 0), 'hairband', 'coolbands!')\n",
      "('4', '6a8cd336-0c06-426c-a781-05ffbe6e1f07', 7, 8, 'path_a4', 'path_b4', 27, 37, datetime.datetime(2019, 3, 31, 0, 0), 'dress', 'straight-fit, regular')\n",
      "('5', '6a8cd336-0c06-426c-a781-05ffbe6e1f07', 9, 10, 'path_a5', 'path_b5', 22, 13, datetime.datetime(2019, 3, 31, 0, 0), 'specs', 'black, white')\n"
     ]
    }
   ],
   "source": [
    "# check\n",
    "select_sql = text(\"SELECT * FROM \\\"appdata.poll\\\"\")\n",
    "result = conn.execute(select_sql)\n",
    "for i in result:\n",
    "    print(i)"
   ]
  },
  {
   "cell_type": "markdown",
   "metadata": {
    "ExecuteTime": {
     "end_time": "2019-04-17T01:44:11.599030Z",
     "start_time": "2019-04-17T01:44:11.595948Z"
    }
   },
   "source": [
    "## appdata.vote "
   ]
  },
  {
   "cell_type": "code",
   "execution_count": 13,
   "metadata": {
    "ExecuteTime": {
     "end_time": "2019-04-17T02:50:17.827359Z",
     "start_time": "2019-04-17T02:50:17.823892Z"
    }
   },
   "outputs": [],
   "source": [
    "with open('vote.sql') as f_vote:\n",
    "    txt_vote = f_vote.read()"
   ]
  },
  {
   "cell_type": "code",
   "execution_count": 14,
   "metadata": {
    "ExecuteTime": {
     "end_time": "2019-04-17T02:50:18.239118Z",
     "start_time": "2019-04-17T02:50:18.235939Z"
    }
   },
   "outputs": [],
   "source": [
    "create_vote_table_sql = text(txt_vote)"
   ]
  },
  {
   "cell_type": "code",
   "execution_count": 15,
   "metadata": {
    "ExecuteTime": {
     "end_time": "2019-04-17T02:50:18.802474Z",
     "start_time": "2019-04-17T02:50:18.699175Z"
    }
   },
   "outputs": [
    {
     "data": {
      "text/plain": [
       "<sqlalchemy.engine.result.ResultProxy at 0x1138e7f98>"
      ]
     },
     "execution_count": 15,
     "metadata": {},
     "output_type": "execute_result"
    }
   ],
   "source": [
    "conn.execute(create_vote_table_sql)"
   ]
  },
  {
   "cell_type": "code",
   "execution_count": 16,
   "metadata": {
    "ExecuteTime": {
     "end_time": "2019-04-17T02:50:58.472942Z",
     "start_time": "2019-04-17T02:50:58.469977Z"
    }
   },
   "outputs": [],
   "source": [
    "## insert data to appdata.vote"
   ]
  },
  {
   "cell_type": "code",
   "execution_count": 20,
   "metadata": {
    "ExecuteTime": {
     "end_time": "2019-04-17T02:52:34.793741Z",
     "start_time": "2019-04-17T02:52:34.789847Z"
    }
   },
   "outputs": [],
   "source": [
    "with open('insert_vote.sql') as f:\n",
    "    insert_vote = f.read()"
   ]
  },
  {
   "cell_type": "code",
   "execution_count": 21,
   "metadata": {
    "ExecuteTime": {
     "end_time": "2019-04-17T02:52:35.133094Z",
     "start_time": "2019-04-17T02:52:35.128082Z"
    }
   },
   "outputs": [],
   "source": [
    "insert_vote_sql = text(insert_vote)"
   ]
  },
  {
   "cell_type": "code",
   "execution_count": 22,
   "metadata": {
    "ExecuteTime": {
     "end_time": "2019-04-17T02:52:35.519023Z",
     "start_time": "2019-04-17T02:52:35.424993Z"
    }
   },
   "outputs": [
    {
     "data": {
      "text/plain": [
       "<sqlalchemy.engine.result.ResultProxy at 0x1138eb198>"
      ]
     },
     "execution_count": 22,
     "metadata": {},
     "output_type": "execute_result"
    }
   ],
   "source": [
    "conn.execute(insert_vote_sql)"
   ]
  },
  {
   "cell_type": "code",
   "execution_count": 23,
   "metadata": {
    "ExecuteTime": {
     "end_time": "2019-04-17T02:53:19.460717Z",
     "start_time": "2019-04-17T02:53:19.369067Z"
    }
   },
   "outputs": [
    {
     "name": "stdout",
     "output_type": "stream",
     "text": [
      "('363947ad-77cb-405d-bb52-e640a062735e', 3, datetime.datetime(2019, 4, 1, 0, 0))\n",
      "('6a8cd336-0c06-426c-a781-05ffbe6e1f07', 4, datetime.datetime(2019, 4, 1, 0, 0))\n",
      "('6a8cd336-0c06-426c-a781-05ffbe6e1f07', 1, datetime.datetime(2019, 4, 1, 0, 0))\n",
      "('6a8cd336-0c06-426c-a781-05ffbe6e1f07', 2, datetime.datetime(2019, 4, 1, 0, 0))\n"
     ]
    }
   ],
   "source": [
    "# check\n",
    "select_sql = text(\"SELECT * FROM \\\"appdata.vote\\\"\")\n",
    "result = conn.execute(select_sql)\n",
    "for i in result:\n",
    "    print(i)"
   ]
  },
  {
   "cell_type": "markdown",
   "metadata": {},
   "source": [
    "## appdata.user "
   ]
  },
  {
   "cell_type": "code",
   "execution_count": 7,
   "metadata": {
    "ExecuteTime": {
     "end_time": "2019-04-05T23:40:25.484376Z",
     "start_time": "2019-04-05T23:40:25.475453Z"
    }
   },
   "outputs": [],
   "source": [
    "# with open('./create_user_table.sql') as f:\n",
    "#     txt = f.read()"
   ]
  },
  {
   "cell_type": "code",
   "execution_count": 8,
   "metadata": {
    "ExecuteTime": {
     "end_time": "2019-04-02T16:23:10.754020Z",
     "start_time": "2019-04-02T16:23:10.751401Z"
    }
   },
   "outputs": [],
   "source": [
    "# create_user_table_sql = text(txt)"
   ]
  },
  {
   "cell_type": "code",
   "execution_count": null,
   "metadata": {},
   "outputs": [],
   "source": [
    "# print(create_user_table_sql)"
   ]
  },
  {
   "cell_type": "code",
   "execution_count": 10,
   "metadata": {
    "ExecuteTime": {
     "end_time": "2019-04-02T16:23:13.416480Z",
     "start_time": "2019-04-02T16:23:12.170781Z"
    }
   },
   "outputs": [
    {
     "data": {
      "text/plain": [
       "<sqlalchemy.engine.result.ResultProxy at 0x1040290b8>"
      ]
     },
     "execution_count": 10,
     "metadata": {},
     "output_type": "execute_result"
    }
   ],
   "source": [
    "# conn.execute(create_user_table_sql)"
   ]
  },
  {
   "cell_type": "code",
   "execution_count": 11,
   "metadata": {
    "ExecuteTime": {
     "end_time": "2019-04-02T16:18:47.501557Z",
     "start_time": "2019-04-02T16:18:47.498910Z"
    }
   },
   "outputs": [],
   "source": [
    "# with open('./insert_script.sql') as f:\n",
    "#     txt = f.read()\n",
    "# insert_sql = text(txt)\n",
    "# conn.execute(insert_sql)"
   ]
  },
  {
   "cell_type": "code",
   "execution_count": 33,
   "metadata": {
    "ExecuteTime": {
     "end_time": "2019-04-17T03:24:35.809917Z",
     "start_time": "2019-04-17T03:24:35.742629Z"
    }
   },
   "outputs": [],
   "source": [
    "select_sql = text(\"SELECT * FROM \\\"appdata.user\\\"\")\n",
    "result = conn.execute(select_sql)"
   ]
  },
  {
   "cell_type": "markdown",
   "metadata": {},
   "source": [
    "## write to csv"
   ]
  },
  {
   "cell_type": "code",
   "execution_count": 146,
   "metadata": {
    "ExecuteTime": {
     "end_time": "2019-04-15T05:45:09.696038Z",
     "start_time": "2019-04-15T05:45:09.645482Z"
    }
   },
   "outputs": [],
   "source": [
    "outfile = open('result.csv', 'w')\n",
    "writer = csv.writer(outfile)\n",
    "writer.writerow(result.keys())\n",
    "writer.writerows(result.fetchall())\n",
    "\n",
    "outfile.close()"
   ]
  },
  {
   "cell_type": "code",
   "execution_count": null,
   "metadata": {},
   "outputs": [],
   "source": [
    "for i in result:\n",
    "    print(i)"
   ]
  }
 ],
 "metadata": {
  "kernelspec": {
   "display_name": "Python 3",
   "language": "python",
   "name": "python3"
  },
  "language_info": {
   "codemirror_mode": {
    "name": "ipython",
    "version": 3
   },
   "file_extension": ".py",
   "mimetype": "text/x-python",
   "name": "python",
   "nbconvert_exporter": "python",
   "pygments_lexer": "ipython3",
   "version": "3.6.7"
  },
  "toc": {
   "base_numbering": 1,
   "nav_menu": {},
   "number_sections": true,
   "sideBar": true,
   "skip_h1_title": false,
   "title_cell": "Table of Contents",
   "title_sidebar": "Contents",
   "toc_cell": false,
   "toc_position": {},
   "toc_section_display": true,
   "toc_window_display": false
  }
 },
 "nbformat": 4,
 "nbformat_minor": 2
}
